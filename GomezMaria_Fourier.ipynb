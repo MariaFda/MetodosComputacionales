{
 "cells": [
  {
   "cell_type": "code",
   "execution_count": 7,
   "metadata": {
    "collapsed": true
   },
   "outputs": [],
   "source": [
    "import numpy as np\n",
    "import matplotlib as mp\n",
    "import matplotlib.pyplot as plt\n",
    "from scipy import interpolate\n",
    "\n"
   ]
  },
  {
   "cell_type": "code",
   "execution_count": 8,
   "metadata": {
    "collapsed": false
   },
   "outputs": [],
   "source": [
    "signal = np.loadtxt('signal.dat', delimiter=',')\n",
    "incompletos = np.loadtxt('incompletos.dat', delimiter=',')"
   ]
  },
  {
   "cell_type": "code",
   "execution_count": 57,
   "metadata": {
    "collapsed": false
   },
   "outputs": [],
   "source": [
    "#Grafica de signal e incompletos\n",
    "plt.figure(figsize=(8,5))\n",
    "plt.plot(signal[:,0], signal[:,1])\n",
    "plt.plot(incompletos[:,0], incompletos[:,1])\n",
    "plt.xlabel('t [AU]')\n",
    "plt.ylabel('x(t) [AU]')\n",
    "plt.title('Datos originales')\n",
    "plt.savefig('GomezMaria_signal.pdf')\n",
    "plt.close()\n",
    "#plt.show()"
   ]
  },
  {
   "cell_type": "code",
   "execution_count": 10,
   "metadata": {
    "collapsed": true
   },
   "outputs": [],
   "source": [
    "\n",
    "#Transformada de Fourier\n",
    "def fourier(x):\n",
    "    N = len(x)\n",
    "    expo = np.exp(-2*np.pi*1j/N)\n",
    "    expos = np.asarray([np.power(expo,k) for k in range(N)])\n",
    "    F = np.zeros(N, dtype = complex)\n",
    "    for m in range(N):\n",
    "        F[m] = np.dot(np.power(expos,m),x)\n",
    "    return F"
   ]
  },
  {
   "cell_type": "code",
   "execution_count": 30,
   "metadata": {
    "collapsed": false
   },
   "outputs": [],
   "source": [
    "#Magnitud de la transformada de fourier de los datos\n",
    "#new_signal=np.asarray(signal)\n",
    "RF = abs(fourier(signal[:,1]))\n",
    "#las frecuencias son fn = n*F/N, con F la frecuencia a la que fueron muestreados los datos. Asumimos F = 1 ya que no la\n",
    "#conocemos. Incluimos frecuencias negativas cons los mismos valores.\n",
    "frecuenciasPositivas = np.asarray([n/len(signal) for n in range(int(len(signal)/2))])\n",
    "frecuenciasNegativas = np.asarray([(-int(len(signal)/2) + n)/len(signal) for n in range(int(len(signal)/2))])\n",
    "frecuencias = np.concatenate((frecuenciasPositivas, frecuenciasNegativas),axis=0)"
   ]
  },
  {
   "cell_type": "code",
   "execution_count": 31,
   "metadata": {
    "collapsed": false
   },
   "outputs": [
    {
     "data": {
      "image/png": "[encoded data removed]",
      "text/plain": [
       "<matplotlib.figure.Figure at 0x1198839e8>"
      ]
     },
     "metadata": {},
     "output_type": "display_data"
    },
    {
     "name": "stdout",
     "output_type": "stream",
     "text": [
      " No utilicé el paquete fftfreq\n"
     ]
    }
   ],
   "source": [
    "plt.figure(figsize=(8,5))\n",
    "plt.plot(frecuencias,RF)\n",
    "plt.xlabel('w [AU]')\n",
    "plt.ylabel('|F(w)| [AU]')\n",
    "plt.title('Fourier propio')\n",
    "plt.savefig('GomezMaria_TF.pdf')\n",
    "plt.show()\n",
    "#plt.close()\n",
    "print (' No utilicé el paquete fftfreq')"
   ]
  },
  {
   "cell_type": "code",
   "execution_count": 13,
   "metadata": {
    "collapsed": false
   },
   "outputs": [],
   "source": [
    "#Encontrar las frecuencias principales. Solo analizar la mitad de la señal.\n",
    "RF_Importantes = RF[0:int(len(signal)/2)-1]\n",
    "Frec_Importantes = frecuencias[0:int(len(signal)/2)-1]\n",
    "MagnitudesOrdenadas = np.sort(RF_Importantes)\n",
    "MagnitudesOrdenadas = MagnitudesOrdenadas[::-1]\n",
    "lasPrimerasMagnitudes = MagnitudesOrdenadas[0:10].tolist()\n",
    "lasPrimerasFrecuencias_indx = [(RF_Importantes.tolist()).index(i) for i in lasPrimerasMagnitudes]\n",
    "lasPrimerasFrecuencias = [Frec_Importantes[i] for i in lasPrimerasFrecuencias_indx]"
   ]
  },
  {
   "cell_type": "code",
   "execution_count": 17,
   "metadata": {
    "collapsed": false
   },
   "outputs": [
    {
     "name": "stdout",
     "output_type": "stream",
     "text": [
      "Las primeras frecuencias son: [0.0, 0.001953125, 0.00390625, 0.005859375, 0.0078125, 0.009765625, 0.01171875, 0.013671875, 0.015625, 0.017578125]\n"
     ]
    }
   ],
   "source": [
    "# Estas son las primeras 11 frecuencias principales.\n",
    "\n",
    "print('Las primeras frecuencias son:',lasPrimerasFrecuencias,)"
   ]
  },
  {
   "cell_type": "code",
   "execution_count": 18,
   "metadata": {
    "collapsed": false
   },
   "outputs": [
    {
     "name": "stdout",
     "output_type": "stream",
     "text": [
      "La frecuencia máxima: 0.498046875\n"
     ]
    }
   ],
   "source": [
    "\n",
    "print ('La frecuencia máxima:', max(np.fft.fftfreq(len(signal))))"
   ]
  },
  {
   "cell_type": "code",
   "execution_count": 19,
   "metadata": {
    "collapsed": false
   },
   "outputs": [],
   "source": [
    "flinear = interpolate.interp1d(incompletos[:,0], incompletos[:,1], kind=\"linear\")\n",
    "fquadratic= interpolate.interp1d(incompletos[:,0], incompletos[:,1], kind=\"quadratic\")\n",
    "fcubic = interpolate.interp1d(incompletos[:,0], incompletos[:,1],kind = \"cubic\")"
   ]
  },
  {
   "cell_type": "code",
   "execution_count": 56,
   "metadata": {
    "collapsed": false
   },
   "outputs": [],
   "source": [
    "x=np.linspace(min(incompletos[:,0]),max(incompletos[:,0]),len(signal[:,0]))\n",
    "#plt.scatter(incompletos[:,0],incompletos[:,1],label=\"incompletos\",color=\"red\")\n",
    "plt.plot(x,fquadratic(x),label=\"quadratic\")\n",
    "plt.plot(x, fcubic(x),label=\"cubic\")\n",
    "plt.xlabel(\"tiempo\")\n",
    "plt.ylabel(\"señal\")\n",
    "plt.title(\"interpolación de datos\")\n",
    "plt.savefig('GomezMaria_interpolacion')\n",
    "\n",
    "\n",
    "\n",
    "\n",
    "#plt.show()"
   ]
  },
  {
   "cell_type": "code",
   "execution_count": 48,
   "metadata": {
    "collapsed": false
   },
   "outputs": [],
   "source": [
    "f=100\n",
    "dt=1 / (f * 128 ) #extraido del notebook de github computo uniandes\n",
    "\n",
    "fft_x=np.fft.fft(signal[:,1])\n",
    "frec=np.fft.fftfreq(np.shape(signal)[0],dt)\n",
    "\n",
    "#verificación con el paquete\n",
    "#plt.plot(frec,fft_x)\n",
    "#plt.show()\n",
    "def filtro(x,corte):\n",
    "    \n",
    "    copia=np.copy(x)\n",
    "    copia[abs(frec) > corte] = 0\n",
    "    \n",
    "    nuevo=np.fft.ifft(copia)\n",
    "    \n",
    "    return copia,nuevo\n",
    "\n",
    "\n",
    "Fourier_cuadratica=fourier(fquadratic(x))\n",
    "Fourier_cubic=fourier(fcubic(x))"
   ]
  },
  {
   "cell_type": "code",
   "execution_count": 59,
   "metadata": {
    "collapsed": false
   },
   "outputs": [
    {
     "name": "stdout",
     "output_type": "stream",
     "text": [
      "No hay diferencias entre las implementaciones, sin embargo los picos cambian, aparecen algunos\n"
     ]
    },
    {
     "name": "stderr",
     "output_type": "stream",
     "text": [
      "/Users/mariafernandagomez/miniconda3/lib/python3.4/site-packages/numpy/core/numeric.py:482: ComplexWarning: Casting complex values to real discards the imaginary part\n",
      "  return array(a, dtype, copy=False, order=order)\n"
     ]
    }
   ],
   "source": [
    "\n",
    "plt.figure()\n",
    "\n",
    "\n",
    "plt.subplot(221)\n",
    "plt.plot(frecuencias, RF)\n",
    "plt.ylabel('signal')\n",
    "plt.title(\"Paquete fft\")\n",
    "\n",
    "\n",
    "plt.subplot(222)\n",
    "plt.plot(frecuencias, RF)\n",
    "plt.ylabel('signal')\n",
    "plt.title(\"Signal\")\n",
    "\n",
    "\n",
    "plt.subplot(223)\n",
    "plt.plot(frec,fquadratic(x))\n",
    "plt.xlabel('frecuencias')\n",
    "plt.title(\"Cuadratica\")\n",
    "\n",
    "\n",
    "plt.subplot(224)\n",
    "plt.plot(frec,fcubic(x))\n",
    "plt.xlabel('frecuencias')\n",
    "plt.title(\"Cubica\")\n",
    "\n",
    "\n",
    "\n",
    "plt.savefig('GomezMaria_TF_interpola')\n",
    "plt.close()\n",
    "\n",
    "#plt.show()\n",
    "\n",
    "\n",
    "print(\"No hay diferencias entre las implementaciones, sin embargo los picos cambian, aparecen algunos\")\n",
    "\n",
    "\n",
    "\n",
    "\n",
    "plt.figure()\n",
    "\n",
    "plt.subplot(221)\n",
    "plt.plot(incompletos[:,0],incompletos[:,1])\n",
    "plt.plot(x,filtro(Fourier_cuadratica,1000)[1])\n",
    "plt.ylabel('Signal')\n",
    "plt.title(\"Filtro 1000\")\n",
    "\n",
    "\n",
    "plt.subplot(222)\n",
    "plt.plot(incompletos[:,0],incompletos[:,1])\n",
    "plt.plot(x,filtro(Fourier_cuadratica,500)[1])\n",
    "plt.ylabel('Signal')\n",
    "plt.title(\"Filtro 500\")\n",
    "\n",
    "\n",
    "\n",
    "plt.savefig('GomezMaria_filtrada')\n",
    "plt.close()\n",
    "#plt.show()\n",
    "\n",
    "plt.figure()\n",
    "\n",
    "plt.subplot(221)\n",
    "plt.plot(incompletos[:,0],incompletos[:,1])\n",
    "plt.plot(x,filtro(transformada_cubic,1000)[1])\n",
    "plt.ylabel('Signal')\n",
    "plt.title(\"Filtro 1000 Incompletos\")\n",
    "\n",
    "plt.subplot(222)\n",
    "plt.plot(incompletos[:,0],incompletos[:,1])\n",
    "plt.plot(x,filtro(transformada_cubic,500)[1])\n",
    "plt.ylabel('Signal')\n",
    "plt.title(\"Filtro 500 Incompletos\")\n",
    "\n",
    "\n",
    "plt.savefig('GomezMaria_2Filtros_incompletos')\n",
    "plt.close()\n",
    "#plt.show()"
   ]
  },
  {
   "cell_type": "code",
   "execution_count": null,
   "metadata": {
    "collapsed": true
   },
   "outputs": [],
   "source": []
  }
 ],
 "metadata": {
  "kernelspec": {
   "display_name": "Python 3",
   "language": "python",
   "name": "python3"
  },
  "language_info": {
   "codemirror_mode": {
    "name": "ipython",
    "version": 3
   },
   "file_extension": ".py",
   "mimetype": "text/x-python",
   "name": "python",
   "nbconvert_exporter": "python",
   "pygments_lexer": "ipython3",
   "version": "3.4.5"
  }
 },
 "nbformat": 4,
 "nbformat_minor": 2
}
