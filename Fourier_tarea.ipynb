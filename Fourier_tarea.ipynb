{
 "cells": [
  {
   "cell_type": "code",
   "execution_count": 9,
   "metadata": {
    "collapsed": true
   },
   "outputs": [],
   "source": [
    "import numpy as np\n",
    "import matplotlib as mp\n",
    "import matplotlib.pyplot as plt"
   ]
  },
  {
   "cell_type": "code",
   "execution_count": 3,
   "metadata": {
    "collapsed": true
   },
   "outputs": [],
   "source": [
    "signal = np.fromfile('signal.dat', dtype=float)\n",
    "incompletos = np.fromfile('incompletos.dat', dtype=float)"
   ]
  },
  {
   "cell_type": "code",
   "execution_count": 4,
   "metadata": {
    "collapsed": false
   },
   "outputs": [
    {
     "data": {
      "image/png": "[encoded data removed]",
      "text/plain": [
       "<matplotlib.figure.Figure at 0x113d865c0>"
      ]
     },
     "metadata": {},
     "output_type": "display_data"
    }
   ],
   "source": [
    "#Grafica de signal e incompletos\n",
    "plt.figure(figsize=(8,5))\n",
    "plt.plot(signal,'k.')\n",
    "plt.xlabel('t [AU]')\n",
    "plt.ylabel('x(t) [AU]')\n",
    "plt.title('Datos originales')\n",
    "plt.savefig('GomezMaria_signal.pdf')\n",
    "#plt.show()"
   ]
  },
  {
   "cell_type": "code",
   "execution_count": 5,
   "metadata": {
    "collapsed": true
   },
   "outputs": [],
   "source": [
    "#Transformada de Fourier\n",
    "def fourier(x):\n",
    "    N = len(x)\n",
    "    expo = np.exp(-2*np.pi*1j/N)\n",
    "    expos = np.asarray([np.power(expo,k) for k in range(N)])\n",
    "    F = np.zeros(N, dtype = complex)\n",
    "    for m in range(N):\n",
    "        F[m] = np.dot(np.power(expos,m),x)\n",
    "    return F"
   ]
  },
  {
   "cell_type": "code",
   "execution_count": 6,
   "metadata": {
    "collapsed": true
   },
   "outputs": [],
   "source": [
    "#Magnitud de la transformada de fourier de los datos\n",
    "RF = abs(fourier(signal))\n",
    "#las frecuencias son fn = n*F/N, con F la frecuencia a la que fueron muestreados los datos. Asumimos F = 1 ya que no la\n",
    "#conocemos. Incluimos frecuencias negativas cons los mismos valores.\n",
    "frecuenciasPositivas = np.asarray([n/len(signal) for n in range(int(len(signal)/2))])\n",
    "frecuenciasNegativas = np.asarray([(-int(len(signal)/2) + n)/len(signal) for n in range(int(len(signal)/2))])\n",
    "frecuencias = np.concatenate((frecuenciasPositivas, frecuenciasNegativas),axis=0)"
   ]
  },
  {
   "cell_type": "code",
   "execution_count": 8,
   "metadata": {
    "collapsed": false
   },
   "outputs": [],
   "source": [
    "plt.figure(figsize=(8,5))\n",
    "plt.plot(frecuencias,RF,'r.')\n",
    "plt.xlabel('w [AU]')\n",
    "plt.ylabel('|F(w)| [AU]')\n",
    "plt.title('Fourier')\n",
    "plt.savefig('GomezMaria_TF.pdf')"
   ]
  },
  {
   "cell_type": "code",
   "execution_count": 5,
   "metadata": {
    "collapsed": true
   },
   "outputs": [],
   "source": [
    "#Encontrar las frecuencias principales. Solo analizar la mitad de la señal.\n",
    "RF_Importantes = RF[0:int(len(signal)/2)-1]\n",
    "Frec_Importantes = frecuencias[0:int(len(signal)/2)-1]\n",
    "MagnitudesOrdenadas = np.sort(RF_Importantes)\n",
    "MagnitudesOrdenadas = MagnitudesOrdenadas[::-1]\n",
    "lasPrimerasMagnitudes = MagnitudesOrdenadas[0:10].tolist()\n",
    "lasPrimerasFrecuencias_indx = [(RF_Importantes.tolist()).index(i) for i in lasPrimerasMagnitudes]\n",
    "lasPrimerasFrecuencias = [Frec_Importantes[i] for i in lasPrimerasFrecuencias_indx]"
   ]
  },
  {
   "cell_type": "code",
   "execution_count": 6,
   "metadata": {
    "collapsed": false
   },
   "outputs": [
    {
     "data": {
      "text/plain": [
       "[0.0,\n",
       " 0.19498069498069498,\n",
       " 0.29440154440154442,\n",
       " 0.12644787644787644,\n",
       " 0.14720077220077221,\n",
       " 0.36679536679536678,\n",
       " 0.41457528957528955,\n",
       " 0.15830115830115829,\n",
       " 0.35231660231660233,\n",
       " 0.071428571428571425]"
      ]
     },
     "execution_count": 6,
     "metadata": {},
     "output_type": "execute_result"
    }
   ],
   "source": [
    "# Estas son las primeras 11 frecuencias principales.\n",
    "lasPrimerasFrecuencias"
   ]
  },
  {
   "cell_type": "code",
   "execution_count": 10,
   "metadata": {
    "collapsed": false
   },
   "outputs": [
    {
     "data": {
      "text/plain": [
       "0.49951737451737455"
      ]
     },
     "execution_count": 10,
     "metadata": {},
     "output_type": "execute_result"
    }
   ],
   "source": [
    "max(np.fft.fftfreq(len(signal)))"
   ]
  },
  {
   "cell_type": "code",
   "execution_count": null,
   "metadata": {
    "collapsed": true
   },
   "outputs": [],
   "source": []
  }
 ],
 "metadata": {
  "kernelspec": {
   "display_name": "Python 3",
   "language": "python",
   "name": "python3"
  },
  "language_info": {
   "codemirror_mode": {
    "name": "ipython",
    "version": 3
   },
   "file_extension": ".py",
   "mimetype": "text/x-python",
   "name": "python",
   "nbconvert_exporter": "python",
   "pygments_lexer": "ipython3",
   "version": "3.4.5"
  }
 },
 "nbformat": 4,
 "nbformat_minor": 2
}
