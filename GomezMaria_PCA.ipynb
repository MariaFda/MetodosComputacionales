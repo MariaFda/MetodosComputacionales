{
 "cells": [
  {
   "cell_type": "code",
   "execution_count": null,
   "metadata": {
    "collapsed": true
   },
   "outputs": [],
   "source": [
    "import numpy as np\n",
    "import matplotlib as mp\n",
    "import matplotlib.pyplot as plt\n",
    "from numpy import linalg as LA"
   ]
  },
  {
   "cell_type": "code",
   "execution_count": null,
   "metadata": {
    "collapsed": false
   },
   "outputs": [],
   "source": [
    "signal = np.loadtxt('WDBC.dat', dtype=str, delimiter=',')\n",
    "signal.shape\n",
    "print (signal)"
   ]
  },
  {
   "cell_type": "code",
   "execution_count": null,
   "metadata": {
    "collapsed": false
   },
   "outputs": [],
   "source": [
    "#Convertir M/B a 1/0\n",
    "Diagnosis = signal[:,1]\n",
    "BinaryDiagnosis = np.zeros(Diagnosis.shape,dtype = float)\n",
    "BinaryDiagnosis[Diagnosis == 'M'] = 0\n",
    "BinaryDiagnosis[Diagnosis == 'B'] = 1\n",
    "signal[:,1] = BinaryDiagnosis\n",
    "signal = signal.astype(np.float)"
   ]
  },
  {
   "cell_type": "code",
   "execution_count": null,
   "metadata": {
    "collapsed": true
   },
   "outputs": [],
   "source": [
    "def covarianza(x,y):\n",
    "    mean_x = np.mean(x)\n",
    "    mean_y = np.mean(y)\n",
    "    c = np.sum([(mean_x - x[i])*(mean_y - y[i]) for i in range(len(x))])\n",
    "    return c/len(x)"
   ]
  },
  {
   "cell_type": "code",
   "execution_count": null,
   "metadata": {
    "collapsed": false
   },
   "outputs": [],
   "source": [
    "#Calcular la matriz de covarianza.\n",
    "Covarianza = np.zeros((31,31),dtype = float)\n",
    "for i in range(31):\n",
    "    for j in range(31):\n",
    "        Covarianza[i,j] = covarianza(signal[:,i+1],signal[:,j+1])\n",
    "print (Covarianza)"
   ]
  },
  {
   "cell_type": "code",
   "execution_count": null,
   "metadata": {
    "collapsed": false
   },
   "outputs": [],
   "source": [
    "#Las columnas de vectors son los vectores propios.\n",
    "values, vectors = LA.eig(Covarianza)\n",
    "#print(values)\n",
    "#print(vectors)"
   ]
  },
  {
   "cell_type": "code",
   "execution_count": null,
   "metadata": {
    "collapsed": false
   },
   "outputs": [],
   "source": [
    "print(\"La matriz es\",\"\\n\", Covarianza,\"\\n\")\n",
    "\n",
    "for i in range(np.shape(values)[0]):\n",
    "    print(\"El valor propio\",i,\"es\", vectors[i],\"con su vector propio correspondiente\")\n",
    "    print(vectors[i],\"\\n\")\n",
    "\n",
    "print(\"De acuerdo con esto tenemos que los componentes principales son\")\n",
    "print(values[0],vectors[0], \";\", values[1],vectors[1])\n",
    "\n",
    "\n",
    "componente1=np.zeros((np.shape(signal)[0],1))\n",
    "componente2=np.zeros((np.shape(signal)[0],1))\n",
    "\n",
    "\n",
    "for i in range(np.shape(signal)[0]):\n",
    "    for j in range(2,np.shape(signal)[1]):\n",
    "        componente1[i]+=signal[i,j]*vectors[0][j-2]\n",
    "        componente2[i]+=signal[i,j]*vectors[1][j-2]\n",
    "\n",
    "          \n",
    "maligno=0\n",
    "benigno=0\n",
    "for i in range(np.shape(signal)[0]):\n",
    "    if signal[i,1]==1:\n",
    "        maligno+=1\n",
    "    else:\n",
    "        benigno+=1    \n",
    "\n",
    "PC1maligno=np.zeros((maligno,1))\n",
    "PC2maligno=np.zeros((maligno,1))\n",
    "PC1beningo=np.zeros((benigno,1))\n",
    "PC2beningo=np.zeros((benigno,1))\n",
    "pa=0\n",
    "be=0\n",
    "for i in range(np.shape(signal)[0]):\n",
    "    if signal[i,1]==1:\n",
    "        PC1maligno[pa]=componente1[i]\n",
    "        PC2maligno[pa]=componente2[i]\n",
    "        pa+=1\n",
    "\n",
    "for i in range(np.shape(signal)[0]):\n",
    "    if signal[i,1]==0:\n",
    "        PC1beningo[be]=componente1[i]\n",
    "        PC2beningo[be]=componente2[i]\n",
    "        be+=1\n",
    "\n",
    "plt.scatter(componente1,componente2, color=\"green\")\n",
    "plt.xlabel(\"PC1\")\n",
    "plt.ylabel(\"PC2\")\n",
    "plt.show()\n",
    "\n",
    "plt.scatter(PC1maligno,PC2maligno,color=\"green\",label=\"maligno\")\n",
    "plt.scatter(PC1beningo,PC2beningo,color=\"blue\",label=\"beningo\")\n",
    "plt.legend()\n",
    "plt.xlabel(\"PC1\")\n",
    "plt.ylabel(\"PC2\")\n",
    "plt.show()\n",
    "\n",
    "print(\"El método PCA si es útil pues muestra justamente estas correlaciones entre los examenes, adicionalmente se puede obtener una información de estos parametros relevantes y su relación con beningo o maligno\")\n"
   ]
  },
  {
   "cell_type": "code",
   "execution_count": null,
   "metadata": {
    "collapsed": true
   },
   "outputs": [],
   "source": []
  }
 ],
 "metadata": {
  "kernelspec": {
   "display_name": "Python 3",
   "language": "python",
   "name": "python3"
  },
  "language_info": {
   "codemirror_mode": {
    "name": "ipython",
    "version": 3
   },
   "file_extension": ".py",
   "mimetype": "text/x-python",
   "name": "python",
   "nbconvert_exporter": "python",
   "pygments_lexer": "ipython3",
   "version": "3.4.5"
  }
 },
 "nbformat": 4,
 "nbformat_minor": 2
}
